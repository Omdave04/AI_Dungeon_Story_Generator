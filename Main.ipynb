{
 "cells": [
  {
   "cell_type": "code",
   "execution_count": 9,
   "id": "091cb5ed",
   "metadata": {},
   "outputs": [],
   "source": [
    "from transformers import GPT2LMHeadModel, GPT2Tokenizer\n",
    "import torch\n",
    "import random\n",
    "import os\n",
    "from datetime import datetime"
   ]
  },
  {
   "cell_type": "code",
   "execution_count": 10,
   "id": "e66ac043",
   "metadata": {},
   "outputs": [],
   "source": [
    "model_name = \"gpt2\"\n",
    "tokenizer = GPT2Tokenizer.from_pretrained(model_name)\n",
    "model = GPT2LMHeadModel.from_pretrained(model_name)\n",
    "model.eval()\n",
    "\n",
    "tokenizer.pad_token = tokenizer.eos_token\n",
    "model.config.pad_token_id = tokenizer.eos_token_id\n"
   ]
  },
  {
   "cell_type": "code",
   "execution_count": 11,
   "id": "4c31822f",
   "metadata": {},
   "outputs": [],
   "source": [
    "genre_prompts = {\n",
    "    'Fantasy': \"Once upon a time in a distant kingdom,\",\n",
    "    'Mystery': \"It was a dark and stormy night when the detective arrived,\",\n",
    "    'Sci-Fi': \"In the year 3021, humans colonized Mars and\",\n",
    "    'Adventure': \"The jungle was thick and full of hidden dangers as\",\n",
    "    'Horror': \"The door creaked open, revealing a shadow in the hallway.\"\n",
    "}\n"
   ]
  },
  {
   "cell_type": "code",
   "execution_count": 12,
   "id": "135234f2",
   "metadata": {},
   "outputs": [],
   "source": [
    "def generate_story(prompt, max_length=150, num_return_sequences=3):\n",
    "    input_ids = tokenizer.encode(prompt, return_tensors='pt')\n",
    "    with torch.no_grad():\n",
    "        outputs = model.generate(\n",
    "            input_ids=input_ids,\n",
    "            max_length=max_length,\n",
    "            num_return_sequences=num_return_sequences,\n",
    "            do_sample=True,\n",
    "            temperature=0.9,\n",
    "            top_k=50,\n",
    "            top_p=0.95,\n",
    "            pad_token_id=tokenizer.eos_token_id\n",
    "        )\n",
    "    stories = [tokenizer.decode(output, skip_special_tokens=True) for output in outputs]\n",
    "    return stories\n"
   ]
  },
  {
   "cell_type": "code",
   "execution_count": 13,
   "id": "e22e3960",
   "metadata": {},
   "outputs": [],
   "source": [
    "genre = 'Fantasy'\n",
    "\n",
    "user_prompt = \"a brave knight set out on a quest to rescue the princess.\"\n",
    "\n",
    "full_prompt = genre_prompts[genre] + \" \" + user_prompt\n",
    "\n",
    "num_stories = 3\n"
   ]
  },
  {
   "cell_type": "code",
   "execution_count": 14,
   "id": "a9b72d5a",
   "metadata": {},
   "outputs": [
    {
     "name": "stdout",
     "output_type": "stream",
     "text": [
      "\n",
      "=== Story 1 ===\n",
      "\n",
      "Once upon a time in a distant kingdom, a brave knight set out on a quest to rescue the princess. He was stopped by a mysterious dragon named Astrid. He had saved the princess by slaying the dragon and saving her, but as the dragon took her into its lair, Astrid sent out a signal: if he didn't kill Astrid before she was defeated, then he would kill her as well. The dragon had no other choice, and Astrid gave the prince the key to her kingdom, but the prince took the key back, and Astrid took the princess. Though they escaped, Astrid was defeated by a powerful mage named Astrid the Night. After Astrid was defeated, they\n",
      "\n",
      "=== Story 2 ===\n",
      "\n",
      "Once upon a time in a distant kingdom, a brave knight set out on a quest to rescue the princess. The princess, who is named Yennefer, was left with no choice but to fight and survive. It was after that that a large force of heroes came to bring about a war between the two kingdoms.\n",
      "\n",
      "The two kingdoms fell into each other's hands during a period of a short time. The kingdom of Yennefer was devastated by the attack of Nergal. One of the main villains of Yennefer was the Black Dragon, known as Zald and the dragon was a powerful ally for both of them. He was also known as the god of the moon. In order to prevent the Black Dragon from being able\n",
      "\n",
      "=== Story 3 ===\n",
      "\n",
      "Once upon a time in a distant kingdom, a brave knight set out on a quest to rescue the princess.\n",
      "\n",
      "It was not long after this that a mysterious woman took over and brought all of the magical items she had in her possession to the princess as a gift. This woman was known for her \"I Will Find You!\" act, which earned her the title of Princess of the Forest.\n",
      "\n",
      "She had been living in the kingdom for some time but had yet to see the princess before her death. However, she had not left the kingdom, so she had decided to travel by magic to retrieve the magical items and bring them to the princess' side as a gift. She hoped that the princess would be able to save her when she\n"
     ]
    }
   ],
   "source": [
    "stories = generate_story(full_prompt, num_return_sequences=num_stories)\n",
    "\n",
    "for i, story in enumerate(stories, 1):\n",
    "    print(f\"\\n=== Story {i} ===\\n\")\n",
    "    print(story)\n"
   ]
  },
  {
   "cell_type": "code",
   "execution_count": 15,
   "id": "8dc14e7e",
   "metadata": {},
   "outputs": [
    {
     "name": "stdout",
     "output_type": "stream",
     "text": [
      "\n",
      "Stories saved to generated_stories\\story_20250625_220530.txt\n"
     ]
    }
   ],
   "source": [
    "output_dir = \"generated_stories\"\n",
    "os.makedirs(output_dir, exist_ok=True)\n",
    "\n",
    "file_name = f\"story_{datetime.now().strftime('%Y%m%d_%H%M%S')}.txt\"\n",
    "file_path = os.path.join(output_dir, file_name)\n",
    "\n",
    "with open(file_path, \"w\", encoding=\"utf-8\") as f:\n",
    "    for i, story in enumerate(stories, 1):\n",
    "        f.write(f\"=== Story {i} ===\\n\")\n",
    "        f.write(story + \"\\n\\n\")\n",
    "\n",
    "print(f\"\\nStories saved to {file_path}\")\n"
   ]
  }
 ],
 "metadata": {
  "kernelspec": {
   "display_name": "base",
   "language": "python",
   "name": "python3"
  },
  "language_info": {
   "codemirror_mode": {
    "name": "ipython",
    "version": 3
   },
   "file_extension": ".py",
   "mimetype": "text/x-python",
   "name": "python",
   "nbconvert_exporter": "python",
   "pygments_lexer": "ipython3",
   "version": "3.12.3"
  }
 },
 "nbformat": 4,
 "nbformat_minor": 5
}
